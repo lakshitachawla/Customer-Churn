{
  "cells": [
    {
      "cell_type": "markdown",
      "metadata": {
        "id": "8hIFBW6RE3Bp"
      },
      "source": [
        "# Customer Churn Prediction"
      ]
    },
    {
      "cell_type": "markdown",
      "source": [
        "## Project Overview\n",
        "\n",
        "This project aims to predict customer churn in a telecom company using machine learning techniques. Customer churn, the phenomenon of customers discontinuing their service, is a critical issue for telecommunication companies as it directly impacts revenue and profitability. By accurately identifying customers at high risk of churn, the company can proactively implement retention strategies, thereby reducing customer attrition and improving overall business performance.\n",
        "\n"
      ],
      "metadata": {
        "id": "lCt2UX0-ROea"
      }
    },
    {
      "cell_type": "markdown",
      "source": [
        "## Dataset Description\n",
        "\n",
        "The dataset contains information about a telecom company's customers, including various features that might influence their decision to churn. Each row represents a customer, and the columns contain customer attributes.\n",
        "\n",
        "**Key Features Include:**\n",
        "* **Demographic Info:** `gender`, `SeniorCitizen`, `Partner`, `Dependents`\n",
        "* **Service Info:** `PhoneService`, `MultipleLines`, `InternetService`, `OnlineSecurity`, `OnlineBackup`, `DeviceProtection`, `TechSupport`, `StreamingTV`, `StreamingMovies`\n",
        "* **Billing & Contract Info:** `Contract`, `PaperlessBilling`, `PaymentMethod`, `MonthlyCharges`, `TotalCharges`\n",
        "* **Customer Lifecycle:** `tenure` (number of months with the company)\n",
        "* **Target Variable:** `Churn` (Yes/No)"
      ],
      "metadata": {
        "id": "Y5oebdPzRi7v"
      }
    },
    {
      "cell_type": "markdown",
      "source": [
        "# Data Loading and Intial Check"
      ],
      "metadata": {
        "id": "CliEToEeSr2X"
      }
    },
    {
      "cell_type": "code",
      "execution_count": 89,
      "metadata": {
        "id": "Bk1ZW-3XE3Bu"
      },
      "outputs": [],
      "source": [
        "import pandas as pd\n",
        "import numpy as np\n",
        "import matplotlib.pyplot as plt\n",
        "import seaborn as sns\n",
        "from sklearn.model_selection import train_test_split\n",
        "from sklearn.preprocessing import StandardScaler\n",
        "from sklearn.linear_model import LogisticRegression\n",
        "from sklearn.metrics import accuracy_score, classification_report, confusion_matrix"
      ]
    },
    {
      "cell_type": "code",
      "execution_count": 90,
      "metadata": {
        "id": "JYNxDFd2E3Bv"
      },
      "outputs": [],
      "source": [
        "df = pd.read_csv(\"/content/customer_churn.csv\")"
      ]
    },
    {
      "cell_type": "code",
      "execution_count": 91,
      "metadata": {
        "colab": {
          "base_uri": "https://localhost:8080/",
          "height": 394
        },
        "id": "fCA9LPGlE3Bv",
        "outputId": "28dcd3b8-194d-4e95-a563-a3ea3c22dcad"
      },
      "outputs": [
        {
          "output_type": "execute_result",
          "data": {
            "text/plain": [
              "   customerID  gender  SeniorCitizen Partner Dependents  tenure CallService  \\\n",
              "0  2907-ILJBN  Female              0     Yes        Yes    11.0         Yes   \n",
              "1  3896-RCYYE  Female              0      No         No    67.0          No   \n",
              "2  9764-REAFF  Female              0     Yes         No    59.0         Yes   \n",
              "3  6651-RLGGM    Male              0     Yes        Yes    67.0         Yes   \n",
              "4  5879-SESNB  Female              0      No         No    11.0         Yes   \n",
              "\n",
              "  MultipleConnections InternetConnection       OnlineSecurity  ...  \\\n",
              "0                  No                 No  No internet service  ...   \n",
              "1    No phone service                DSL                   No  ...   \n",
              "2                  No                 No  No internet service  ...   \n",
              "3                 Yes                 No  No internet service  ...   \n",
              "4                 Yes        Fiber optic                   No  ...   \n",
              "\n",
              "  DeviceProtectionService        TechnicalHelp             OnlineTV  \\\n",
              "0     No internet service  No internet service  No internet service   \n",
              "1                     Yes                  Yes                  Yes   \n",
              "2     No internet service  No internet service  No internet service   \n",
              "3     No internet service  No internet service  No internet service   \n",
              "4                      No                   No                   No   \n",
              "\n",
              "          OnlineMovies       Agreement BillingMethod  \\\n",
              "0  No internet service        One year            No   \n",
              "1                  Yes  Month-to-month           Yes   \n",
              "2  No internet service        Two year            No   \n",
              "3  No internet service        Two year            No   \n",
              "4                   No  Month-to-month            No   \n",
              "\n",
              "               PaymentMethod MonthlyServiceCharges  TotalAmount  Churn  \n",
              "0               Mailed check                 20.60       233.90     No  \n",
              "1    Credit card (automatic)                 53.40      3579.15     No  \n",
              "2  Bank transfer (automatic)                 18.40      1057.85     No  \n",
              "3               Mailed check                 26.30      1688.90     No  \n",
              "4           Electronic check                 75.25       888.65     No  \n",
              "\n",
              "[5 rows x 21 columns]"
            ],
            "text/html": [
              "\n",
              "  <div id=\"df-0654a9e9-63d9-4071-88b5-8ef1f506c9d5\" class=\"colab-df-container\">\n",
              "    <div>\n",
              "<style scoped>\n",
              "    .dataframe tbody tr th:only-of-type {\n",
              "        vertical-align: middle;\n",
              "    }\n",
              "\n",
              "    .dataframe tbody tr th {\n",
              "        vertical-align: top;\n",
              "    }\n",
              "\n",
              "    .dataframe thead th {\n",
              "        text-align: right;\n",
              "    }\n",
              "</style>\n",
              "<table border=\"1\" class=\"dataframe\">\n",
              "  <thead>\n",
              "    <tr style=\"text-align: right;\">\n",
              "      <th></th>\n",
              "      <th>customerID</th>\n",
              "      <th>gender</th>\n",
              "      <th>SeniorCitizen</th>\n",
              "      <th>Partner</th>\n",
              "      <th>Dependents</th>\n",
              "      <th>tenure</th>\n",
              "      <th>CallService</th>\n",
              "      <th>MultipleConnections</th>\n",
              "      <th>InternetConnection</th>\n",
              "      <th>OnlineSecurity</th>\n",
              "      <th>...</th>\n",
              "      <th>DeviceProtectionService</th>\n",
              "      <th>TechnicalHelp</th>\n",
              "      <th>OnlineTV</th>\n",
              "      <th>OnlineMovies</th>\n",
              "      <th>Agreement</th>\n",
              "      <th>BillingMethod</th>\n",
              "      <th>PaymentMethod</th>\n",
              "      <th>MonthlyServiceCharges</th>\n",
              "      <th>TotalAmount</th>\n",
              "      <th>Churn</th>\n",
              "    </tr>\n",
              "  </thead>\n",
              "  <tbody>\n",
              "    <tr>\n",
              "      <th>0</th>\n",
              "      <td>2907-ILJBN</td>\n",
              "      <td>Female</td>\n",
              "      <td>0</td>\n",
              "      <td>Yes</td>\n",
              "      <td>Yes</td>\n",
              "      <td>11.0</td>\n",
              "      <td>Yes</td>\n",
              "      <td>No</td>\n",
              "      <td>No</td>\n",
              "      <td>No internet service</td>\n",
              "      <td>...</td>\n",
              "      <td>No internet service</td>\n",
              "      <td>No internet service</td>\n",
              "      <td>No internet service</td>\n",
              "      <td>No internet service</td>\n",
              "      <td>One year</td>\n",
              "      <td>No</td>\n",
              "      <td>Mailed check</td>\n",
              "      <td>20.60</td>\n",
              "      <td>233.90</td>\n",
              "      <td>No</td>\n",
              "    </tr>\n",
              "    <tr>\n",
              "      <th>1</th>\n",
              "      <td>3896-RCYYE</td>\n",
              "      <td>Female</td>\n",
              "      <td>0</td>\n",
              "      <td>No</td>\n",
              "      <td>No</td>\n",
              "      <td>67.0</td>\n",
              "      <td>No</td>\n",
              "      <td>No phone service</td>\n",
              "      <td>DSL</td>\n",
              "      <td>No</td>\n",
              "      <td>...</td>\n",
              "      <td>Yes</td>\n",
              "      <td>Yes</td>\n",
              "      <td>Yes</td>\n",
              "      <td>Yes</td>\n",
              "      <td>Month-to-month</td>\n",
              "      <td>Yes</td>\n",
              "      <td>Credit card (automatic)</td>\n",
              "      <td>53.40</td>\n",
              "      <td>3579.15</td>\n",
              "      <td>No</td>\n",
              "    </tr>\n",
              "    <tr>\n",
              "      <th>2</th>\n",
              "      <td>9764-REAFF</td>\n",
              "      <td>Female</td>\n",
              "      <td>0</td>\n",
              "      <td>Yes</td>\n",
              "      <td>No</td>\n",
              "      <td>59.0</td>\n",
              "      <td>Yes</td>\n",
              "      <td>No</td>\n",
              "      <td>No</td>\n",
              "      <td>No internet service</td>\n",
              "      <td>...</td>\n",
              "      <td>No internet service</td>\n",
              "      <td>No internet service</td>\n",
              "      <td>No internet service</td>\n",
              "      <td>No internet service</td>\n",
              "      <td>Two year</td>\n",
              "      <td>No</td>\n",
              "      <td>Bank transfer (automatic)</td>\n",
              "      <td>18.40</td>\n",
              "      <td>1057.85</td>\n",
              "      <td>No</td>\n",
              "    </tr>\n",
              "    <tr>\n",
              "      <th>3</th>\n",
              "      <td>6651-RLGGM</td>\n",
              "      <td>Male</td>\n",
              "      <td>0</td>\n",
              "      <td>Yes</td>\n",
              "      <td>Yes</td>\n",
              "      <td>67.0</td>\n",
              "      <td>Yes</td>\n",
              "      <td>Yes</td>\n",
              "      <td>No</td>\n",
              "      <td>No internet service</td>\n",
              "      <td>...</td>\n",
              "      <td>No internet service</td>\n",
              "      <td>No internet service</td>\n",
              "      <td>No internet service</td>\n",
              "      <td>No internet service</td>\n",
              "      <td>Two year</td>\n",
              "      <td>No</td>\n",
              "      <td>Mailed check</td>\n",
              "      <td>26.30</td>\n",
              "      <td>1688.90</td>\n",
              "      <td>No</td>\n",
              "    </tr>\n",
              "    <tr>\n",
              "      <th>4</th>\n",
              "      <td>5879-SESNB</td>\n",
              "      <td>Female</td>\n",
              "      <td>0</td>\n",
              "      <td>No</td>\n",
              "      <td>No</td>\n",
              "      <td>11.0</td>\n",
              "      <td>Yes</td>\n",
              "      <td>Yes</td>\n",
              "      <td>Fiber optic</td>\n",
              "      <td>No</td>\n",
              "      <td>...</td>\n",
              "      <td>No</td>\n",
              "      <td>No</td>\n",
              "      <td>No</td>\n",
              "      <td>No</td>\n",
              "      <td>Month-to-month</td>\n",
              "      <td>No</td>\n",
              "      <td>Electronic check</td>\n",
              "      <td>75.25</td>\n",
              "      <td>888.65</td>\n",
              "      <td>No</td>\n",
              "    </tr>\n",
              "  </tbody>\n",
              "</table>\n",
              "<p>5 rows × 21 columns</p>\n",
              "</div>\n",
              "    <div class=\"colab-df-buttons\">\n",
              "\n",
              "  <div class=\"colab-df-container\">\n",
              "    <button class=\"colab-df-convert\" onclick=\"convertToInteractive('df-0654a9e9-63d9-4071-88b5-8ef1f506c9d5')\"\n",
              "            title=\"Convert this dataframe to an interactive table.\"\n",
              "            style=\"display:none;\">\n",
              "\n",
              "  <svg xmlns=\"http://www.w3.org/2000/svg\" height=\"24px\" viewBox=\"0 -960 960 960\">\n",
              "    <path d=\"M120-120v-720h720v720H120Zm60-500h600v-160H180v160Zm220 220h160v-160H400v160Zm0 220h160v-160H400v160ZM180-400h160v-160H180v160Zm440 0h160v-160H620v160ZM180-180h160v-160H180v160Zm440 0h160v-160H620v160Z\"/>\n",
              "  </svg>\n",
              "    </button>\n",
              "\n",
              "  <style>\n",
              "    .colab-df-container {\n",
              "      display:flex;\n",
              "      gap: 12px;\n",
              "    }\n",
              "\n",
              "    .colab-df-convert {\n",
              "      background-color: #E8F0FE;\n",
              "      border: none;\n",
              "      border-radius: 50%;\n",
              "      cursor: pointer;\n",
              "      display: none;\n",
              "      fill: #1967D2;\n",
              "      height: 32px;\n",
              "      padding: 0 0 0 0;\n",
              "      width: 32px;\n",
              "    }\n",
              "\n",
              "    .colab-df-convert:hover {\n",
              "      background-color: #E2EBFA;\n",
              "      box-shadow: 0px 1px 2px rgba(60, 64, 67, 0.3), 0px 1px 3px 1px rgba(60, 64, 67, 0.15);\n",
              "      fill: #174EA6;\n",
              "    }\n",
              "\n",
              "    .colab-df-buttons div {\n",
              "      margin-bottom: 4px;\n",
              "    }\n",
              "\n",
              "    [theme=dark] .colab-df-convert {\n",
              "      background-color: #3B4455;\n",
              "      fill: #D2E3FC;\n",
              "    }\n",
              "\n",
              "    [theme=dark] .colab-df-convert:hover {\n",
              "      background-color: #434B5C;\n",
              "      box-shadow: 0px 1px 3px 1px rgba(0, 0, 0, 0.15);\n",
              "      filter: drop-shadow(0px 1px 2px rgba(0, 0, 0, 0.3));\n",
              "      fill: #FFFFFF;\n",
              "    }\n",
              "  </style>\n",
              "\n",
              "    <script>\n",
              "      const buttonEl =\n",
              "        document.querySelector('#df-0654a9e9-63d9-4071-88b5-8ef1f506c9d5 button.colab-df-convert');\n",
              "      buttonEl.style.display =\n",
              "        google.colab.kernel.accessAllowed ? 'block' : 'none';\n",
              "\n",
              "      async function convertToInteractive(key) {\n",
              "        const element = document.querySelector('#df-0654a9e9-63d9-4071-88b5-8ef1f506c9d5');\n",
              "        const dataTable =\n",
              "          await google.colab.kernel.invokeFunction('convertToInteractive',\n",
              "                                                    [key], {});\n",
              "        if (!dataTable) return;\n",
              "\n",
              "        const docLinkHtml = 'Like what you see? Visit the ' +\n",
              "          '<a target=\"_blank\" href=https://colab.research.google.com/notebooks/data_table.ipynb>data table notebook</a>'\n",
              "          + ' to learn more about interactive tables.';\n",
              "        element.innerHTML = '';\n",
              "        dataTable['output_type'] = 'display_data';\n",
              "        await google.colab.output.renderOutput(dataTable, element);\n",
              "        const docLink = document.createElement('div');\n",
              "        docLink.innerHTML = docLinkHtml;\n",
              "        element.appendChild(docLink);\n",
              "      }\n",
              "    </script>\n",
              "  </div>\n",
              "\n",
              "\n",
              "    <div id=\"df-d5b47926-7e3f-4f12-b572-f65cefa64222\">\n",
              "      <button class=\"colab-df-quickchart\" onclick=\"quickchart('df-d5b47926-7e3f-4f12-b572-f65cefa64222')\"\n",
              "                title=\"Suggest charts\"\n",
              "                style=\"display:none;\">\n",
              "\n",
              "<svg xmlns=\"http://www.w3.org/2000/svg\" height=\"24px\"viewBox=\"0 0 24 24\"\n",
              "     width=\"24px\">\n",
              "    <g>\n",
              "        <path d=\"M19 3H5c-1.1 0-2 .9-2 2v14c0 1.1.9 2 2 2h14c1.1 0 2-.9 2-2V5c0-1.1-.9-2-2-2zM9 17H7v-7h2v7zm4 0h-2V7h2v10zm4 0h-2v-4h2v4z\"/>\n",
              "    </g>\n",
              "</svg>\n",
              "      </button>\n",
              "\n",
              "<style>\n",
              "  .colab-df-quickchart {\n",
              "      --bg-color: #E8F0FE;\n",
              "      --fill-color: #1967D2;\n",
              "      --hover-bg-color: #E2EBFA;\n",
              "      --hover-fill-color: #174EA6;\n",
              "      --disabled-fill-color: #AAA;\n",
              "      --disabled-bg-color: #DDD;\n",
              "  }\n",
              "\n",
              "  [theme=dark] .colab-df-quickchart {\n",
              "      --bg-color: #3B4455;\n",
              "      --fill-color: #D2E3FC;\n",
              "      --hover-bg-color: #434B5C;\n",
              "      --hover-fill-color: #FFFFFF;\n",
              "      --disabled-bg-color: #3B4455;\n",
              "      --disabled-fill-color: #666;\n",
              "  }\n",
              "\n",
              "  .colab-df-quickchart {\n",
              "    background-color: var(--bg-color);\n",
              "    border: none;\n",
              "    border-radius: 50%;\n",
              "    cursor: pointer;\n",
              "    display: none;\n",
              "    fill: var(--fill-color);\n",
              "    height: 32px;\n",
              "    padding: 0;\n",
              "    width: 32px;\n",
              "  }\n",
              "\n",
              "  .colab-df-quickchart:hover {\n",
              "    background-color: var(--hover-bg-color);\n",
              "    box-shadow: 0 1px 2px rgba(60, 64, 67, 0.3), 0 1px 3px 1px rgba(60, 64, 67, 0.15);\n",
              "    fill: var(--button-hover-fill-color);\n",
              "  }\n",
              "\n",
              "  .colab-df-quickchart-complete:disabled,\n",
              "  .colab-df-quickchart-complete:disabled:hover {\n",
              "    background-color: var(--disabled-bg-color);\n",
              "    fill: var(--disabled-fill-color);\n",
              "    box-shadow: none;\n",
              "  }\n",
              "\n",
              "  .colab-df-spinner {\n",
              "    border: 2px solid var(--fill-color);\n",
              "    border-color: transparent;\n",
              "    border-bottom-color: var(--fill-color);\n",
              "    animation:\n",
              "      spin 1s steps(1) infinite;\n",
              "  }\n",
              "\n",
              "  @keyframes spin {\n",
              "    0% {\n",
              "      border-color: transparent;\n",
              "      border-bottom-color: var(--fill-color);\n",
              "      border-left-color: var(--fill-color);\n",
              "    }\n",
              "    20% {\n",
              "      border-color: transparent;\n",
              "      border-left-color: var(--fill-color);\n",
              "      border-top-color: var(--fill-color);\n",
              "    }\n",
              "    30% {\n",
              "      border-color: transparent;\n",
              "      border-left-color: var(--fill-color);\n",
              "      border-top-color: var(--fill-color);\n",
              "      border-right-color: var(--fill-color);\n",
              "    }\n",
              "    40% {\n",
              "      border-color: transparent;\n",
              "      border-right-color: var(--fill-color);\n",
              "      border-top-color: var(--fill-color);\n",
              "    }\n",
              "    60% {\n",
              "      border-color: transparent;\n",
              "      border-right-color: var(--fill-color);\n",
              "    }\n",
              "    80% {\n",
              "      border-color: transparent;\n",
              "      border-right-color: var(--fill-color);\n",
              "      border-bottom-color: var(--fill-color);\n",
              "    }\n",
              "    90% {\n",
              "      border-color: transparent;\n",
              "      border-bottom-color: var(--fill-color);\n",
              "    }\n",
              "  }\n",
              "</style>\n",
              "\n",
              "      <script>\n",
              "        async function quickchart(key) {\n",
              "          const quickchartButtonEl =\n",
              "            document.querySelector('#' + key + ' button');\n",
              "          quickchartButtonEl.disabled = true;  // To prevent multiple clicks.\n",
              "          quickchartButtonEl.classList.add('colab-df-spinner');\n",
              "          try {\n",
              "            const charts = await google.colab.kernel.invokeFunction(\n",
              "                'suggestCharts', [key], {});\n",
              "          } catch (error) {\n",
              "            console.error('Error during call to suggestCharts:', error);\n",
              "          }\n",
              "          quickchartButtonEl.classList.remove('colab-df-spinner');\n",
              "          quickchartButtonEl.classList.add('colab-df-quickchart-complete');\n",
              "        }\n",
              "        (() => {\n",
              "          let quickchartButtonEl =\n",
              "            document.querySelector('#df-d5b47926-7e3f-4f12-b572-f65cefa64222 button');\n",
              "          quickchartButtonEl.style.display =\n",
              "            google.colab.kernel.accessAllowed ? 'block' : 'none';\n",
              "        })();\n",
              "      </script>\n",
              "    </div>\n",
              "\n",
              "    </div>\n",
              "  </div>\n"
            ],
            "application/vnd.google.colaboratory.intrinsic+json": {
              "type": "dataframe",
              "variable_name": "df"
            }
          },
          "metadata": {},
          "execution_count": 91
        }
      ],
      "source": [
        "df.head()"
      ]
    },
    {
      "cell_type": "code",
      "execution_count": 92,
      "metadata": {
        "colab": {
          "base_uri": "https://localhost:8080/",
          "height": 708
        },
        "id": "r-TuB4HPE3Bx",
        "outputId": "eea60305-0a3d-4cbe-e999-869f043a5e45"
      },
      "outputs": [
        {
          "output_type": "execute_result",
          "data": {
            "text/plain": [
              "                                           0                        1  \\\n",
              "customerID                        2907-ILJBN               3896-RCYYE   \n",
              "gender                                Female                   Female   \n",
              "SeniorCitizen                              0                        0   \n",
              "Partner                                  Yes                       No   \n",
              "Dependents                               Yes                       No   \n",
              "tenure                                  11.0                     67.0   \n",
              "CallService                              Yes                       No   \n",
              "MultipleConnections                       No         No phone service   \n",
              "InternetConnection                        No                      DSL   \n",
              "OnlineSecurity           No internet service                       No   \n",
              "OnlineBackup             No internet service                       No   \n",
              "DeviceProtectionService  No internet service                      Yes   \n",
              "TechnicalHelp            No internet service                      Yes   \n",
              "OnlineTV                 No internet service                      Yes   \n",
              "OnlineMovies             No internet service                      Yes   \n",
              "Agreement                           One year           Month-to-month   \n",
              "BillingMethod                             No                      Yes   \n",
              "PaymentMethod                   Mailed check  Credit card (automatic)   \n",
              "MonthlyServiceCharges                   20.6                     53.4   \n",
              "TotalAmount                            233.9                  3579.15   \n",
              "Churn                                     No                       No   \n",
              "\n",
              "                                                 2                    3  \\\n",
              "customerID                              9764-REAFF           6651-RLGGM   \n",
              "gender                                      Female                 Male   \n",
              "SeniorCitizen                                    0                    0   \n",
              "Partner                                        Yes                  Yes   \n",
              "Dependents                                      No                  Yes   \n",
              "tenure                                        59.0                 67.0   \n",
              "CallService                                    Yes                  Yes   \n",
              "MultipleConnections                             No                  Yes   \n",
              "InternetConnection                              No                   No   \n",
              "OnlineSecurity                 No internet service  No internet service   \n",
              "OnlineBackup                   No internet service  No internet service   \n",
              "DeviceProtectionService        No internet service  No internet service   \n",
              "TechnicalHelp                  No internet service  No internet service   \n",
              "OnlineTV                       No internet service  No internet service   \n",
              "OnlineMovies                   No internet service  No internet service   \n",
              "Agreement                                 Two year             Two year   \n",
              "BillingMethod                                   No                   No   \n",
              "PaymentMethod            Bank transfer (automatic)         Mailed check   \n",
              "MonthlyServiceCharges                         18.4                 26.3   \n",
              "TotalAmount                                1057.85               1688.9   \n",
              "Churn                                           No                   No   \n",
              "\n",
              "                                        4  \n",
              "customerID                     5879-SESNB  \n",
              "gender                             Female  \n",
              "SeniorCitizen                           0  \n",
              "Partner                                No  \n",
              "Dependents                             No  \n",
              "tenure                               11.0  \n",
              "CallService                           Yes  \n",
              "MultipleConnections                   Yes  \n",
              "InternetConnection            Fiber optic  \n",
              "OnlineSecurity                         No  \n",
              "OnlineBackup                           No  \n",
              "DeviceProtectionService                No  \n",
              "TechnicalHelp                          No  \n",
              "OnlineTV                               No  \n",
              "OnlineMovies                           No  \n",
              "Agreement                  Month-to-month  \n",
              "BillingMethod                          No  \n",
              "PaymentMethod            Electronic check  \n",
              "MonthlyServiceCharges               75.25  \n",
              "TotalAmount                        888.65  \n",
              "Churn                                  No  "
            ],
            "text/html": [
              "\n",
              "  <div id=\"df-a43d5c13-e9fc-468d-acae-079940606003\" class=\"colab-df-container\">\n",
              "    <div>\n",
              "<style scoped>\n",
              "    .dataframe tbody tr th:only-of-type {\n",
              "        vertical-align: middle;\n",
              "    }\n",
              "\n",
              "    .dataframe tbody tr th {\n",
              "        vertical-align: top;\n",
              "    }\n",
              "\n",
              "    .dataframe thead th {\n",
              "        text-align: right;\n",
              "    }\n",
              "</style>\n",
              "<table border=\"1\" class=\"dataframe\">\n",
              "  <thead>\n",
              "    <tr style=\"text-align: right;\">\n",
              "      <th></th>\n",
              "      <th>0</th>\n",
              "      <th>1</th>\n",
              "      <th>2</th>\n",
              "      <th>3</th>\n",
              "      <th>4</th>\n",
              "    </tr>\n",
              "  </thead>\n",
              "  <tbody>\n",
              "    <tr>\n",
              "      <th>customerID</th>\n",
              "      <td>2907-ILJBN</td>\n",
              "      <td>3896-RCYYE</td>\n",
              "      <td>9764-REAFF</td>\n",
              "      <td>6651-RLGGM</td>\n",
              "      <td>5879-SESNB</td>\n",
              "    </tr>\n",
              "    <tr>\n",
              "      <th>gender</th>\n",
              "      <td>Female</td>\n",
              "      <td>Female</td>\n",
              "      <td>Female</td>\n",
              "      <td>Male</td>\n",
              "      <td>Female</td>\n",
              "    </tr>\n",
              "    <tr>\n",
              "      <th>SeniorCitizen</th>\n",
              "      <td>0</td>\n",
              "      <td>0</td>\n",
              "      <td>0</td>\n",
              "      <td>0</td>\n",
              "      <td>0</td>\n",
              "    </tr>\n",
              "    <tr>\n",
              "      <th>Partner</th>\n",
              "      <td>Yes</td>\n",
              "      <td>No</td>\n",
              "      <td>Yes</td>\n",
              "      <td>Yes</td>\n",
              "      <td>No</td>\n",
              "    </tr>\n",
              "    <tr>\n",
              "      <th>Dependents</th>\n",
              "      <td>Yes</td>\n",
              "      <td>No</td>\n",
              "      <td>No</td>\n",
              "      <td>Yes</td>\n",
              "      <td>No</td>\n",
              "    </tr>\n",
              "    <tr>\n",
              "      <th>tenure</th>\n",
              "      <td>11.0</td>\n",
              "      <td>67.0</td>\n",
              "      <td>59.0</td>\n",
              "      <td>67.0</td>\n",
              "      <td>11.0</td>\n",
              "    </tr>\n",
              "    <tr>\n",
              "      <th>CallService</th>\n",
              "      <td>Yes</td>\n",
              "      <td>No</td>\n",
              "      <td>Yes</td>\n",
              "      <td>Yes</td>\n",
              "      <td>Yes</td>\n",
              "    </tr>\n",
              "    <tr>\n",
              "      <th>MultipleConnections</th>\n",
              "      <td>No</td>\n",
              "      <td>No phone service</td>\n",
              "      <td>No</td>\n",
              "      <td>Yes</td>\n",
              "      <td>Yes</td>\n",
              "    </tr>\n",
              "    <tr>\n",
              "      <th>InternetConnection</th>\n",
              "      <td>No</td>\n",
              "      <td>DSL</td>\n",
              "      <td>No</td>\n",
              "      <td>No</td>\n",
              "      <td>Fiber optic</td>\n",
              "    </tr>\n",
              "    <tr>\n",
              "      <th>OnlineSecurity</th>\n",
              "      <td>No internet service</td>\n",
              "      <td>No</td>\n",
              "      <td>No internet service</td>\n",
              "      <td>No internet service</td>\n",
              "      <td>No</td>\n",
              "    </tr>\n",
              "    <tr>\n",
              "      <th>OnlineBackup</th>\n",
              "      <td>No internet service</td>\n",
              "      <td>No</td>\n",
              "      <td>No internet service</td>\n",
              "      <td>No internet service</td>\n",
              "      <td>No</td>\n",
              "    </tr>\n",
              "    <tr>\n",
              "      <th>DeviceProtectionService</th>\n",
              "      <td>No internet service</td>\n",
              "      <td>Yes</td>\n",
              "      <td>No internet service</td>\n",
              "      <td>No internet service</td>\n",
              "      <td>No</td>\n",
              "    </tr>\n",
              "    <tr>\n",
              "      <th>TechnicalHelp</th>\n",
              "      <td>No internet service</td>\n",
              "      <td>Yes</td>\n",
              "      <td>No internet service</td>\n",
              "      <td>No internet service</td>\n",
              "      <td>No</td>\n",
              "    </tr>\n",
              "    <tr>\n",
              "      <th>OnlineTV</th>\n",
              "      <td>No internet service</td>\n",
              "      <td>Yes</td>\n",
              "      <td>No internet service</td>\n",
              "      <td>No internet service</td>\n",
              "      <td>No</td>\n",
              "    </tr>\n",
              "    <tr>\n",
              "      <th>OnlineMovies</th>\n",
              "      <td>No internet service</td>\n",
              "      <td>Yes</td>\n",
              "      <td>No internet service</td>\n",
              "      <td>No internet service</td>\n",
              "      <td>No</td>\n",
              "    </tr>\n",
              "    <tr>\n",
              "      <th>Agreement</th>\n",
              "      <td>One year</td>\n",
              "      <td>Month-to-month</td>\n",
              "      <td>Two year</td>\n",
              "      <td>Two year</td>\n",
              "      <td>Month-to-month</td>\n",
              "    </tr>\n",
              "    <tr>\n",
              "      <th>BillingMethod</th>\n",
              "      <td>No</td>\n",
              "      <td>Yes</td>\n",
              "      <td>No</td>\n",
              "      <td>No</td>\n",
              "      <td>No</td>\n",
              "    </tr>\n",
              "    <tr>\n",
              "      <th>PaymentMethod</th>\n",
              "      <td>Mailed check</td>\n",
              "      <td>Credit card (automatic)</td>\n",
              "      <td>Bank transfer (automatic)</td>\n",
              "      <td>Mailed check</td>\n",
              "      <td>Electronic check</td>\n",
              "    </tr>\n",
              "    <tr>\n",
              "      <th>MonthlyServiceCharges</th>\n",
              "      <td>20.6</td>\n",
              "      <td>53.4</td>\n",
              "      <td>18.4</td>\n",
              "      <td>26.3</td>\n",
              "      <td>75.25</td>\n",
              "    </tr>\n",
              "    <tr>\n",
              "      <th>TotalAmount</th>\n",
              "      <td>233.9</td>\n",
              "      <td>3579.15</td>\n",
              "      <td>1057.85</td>\n",
              "      <td>1688.9</td>\n",
              "      <td>888.65</td>\n",
              "    </tr>\n",
              "    <tr>\n",
              "      <th>Churn</th>\n",
              "      <td>No</td>\n",
              "      <td>No</td>\n",
              "      <td>No</td>\n",
              "      <td>No</td>\n",
              "      <td>No</td>\n",
              "    </tr>\n",
              "  </tbody>\n",
              "</table>\n",
              "</div>\n",
              "    <div class=\"colab-df-buttons\">\n",
              "\n",
              "  <div class=\"colab-df-container\">\n",
              "    <button class=\"colab-df-convert\" onclick=\"convertToInteractive('df-a43d5c13-e9fc-468d-acae-079940606003')\"\n",
              "            title=\"Convert this dataframe to an interactive table.\"\n",
              "            style=\"display:none;\">\n",
              "\n",
              "  <svg xmlns=\"http://www.w3.org/2000/svg\" height=\"24px\" viewBox=\"0 -960 960 960\">\n",
              "    <path d=\"M120-120v-720h720v720H120Zm60-500h600v-160H180v160Zm220 220h160v-160H400v160Zm0 220h160v-160H400v160ZM180-400h160v-160H180v160Zm440 0h160v-160H620v160ZM180-180h160v-160H180v160Zm440 0h160v-160H620v160Z\"/>\n",
              "  </svg>\n",
              "    </button>\n",
              "\n",
              "  <style>\n",
              "    .colab-df-container {\n",
              "      display:flex;\n",
              "      gap: 12px;\n",
              "    }\n",
              "\n",
              "    .colab-df-convert {\n",
              "      background-color: #E8F0FE;\n",
              "      border: none;\n",
              "      border-radius: 50%;\n",
              "      cursor: pointer;\n",
              "      display: none;\n",
              "      fill: #1967D2;\n",
              "      height: 32px;\n",
              "      padding: 0 0 0 0;\n",
              "      width: 32px;\n",
              "    }\n",
              "\n",
              "    .colab-df-convert:hover {\n",
              "      background-color: #E2EBFA;\n",
              "      box-shadow: 0px 1px 2px rgba(60, 64, 67, 0.3), 0px 1px 3px 1px rgba(60, 64, 67, 0.15);\n",
              "      fill: #174EA6;\n",
              "    }\n",
              "\n",
              "    .colab-df-buttons div {\n",
              "      margin-bottom: 4px;\n",
              "    }\n",
              "\n",
              "    [theme=dark] .colab-df-convert {\n",
              "      background-color: #3B4455;\n",
              "      fill: #D2E3FC;\n",
              "    }\n",
              "\n",
              "    [theme=dark] .colab-df-convert:hover {\n",
              "      background-color: #434B5C;\n",
              "      box-shadow: 0px 1px 3px 1px rgba(0, 0, 0, 0.15);\n",
              "      filter: drop-shadow(0px 1px 2px rgba(0, 0, 0, 0.3));\n",
              "      fill: #FFFFFF;\n",
              "    }\n",
              "  </style>\n",
              "\n",
              "    <script>\n",
              "      const buttonEl =\n",
              "        document.querySelector('#df-a43d5c13-e9fc-468d-acae-079940606003 button.colab-df-convert');\n",
              "      buttonEl.style.display =\n",
              "        google.colab.kernel.accessAllowed ? 'block' : 'none';\n",
              "\n",
              "      async function convertToInteractive(key) {\n",
              "        const element = document.querySelector('#df-a43d5c13-e9fc-468d-acae-079940606003');\n",
              "        const dataTable =\n",
              "          await google.colab.kernel.invokeFunction('convertToInteractive',\n",
              "                                                    [key], {});\n",
              "        if (!dataTable) return;\n",
              "\n",
              "        const docLinkHtml = 'Like what you see? Visit the ' +\n",
              "          '<a target=\"_blank\" href=https://colab.research.google.com/notebooks/data_table.ipynb>data table notebook</a>'\n",
              "          + ' to learn more about interactive tables.';\n",
              "        element.innerHTML = '';\n",
              "        dataTable['output_type'] = 'display_data';\n",
              "        await google.colab.output.renderOutput(dataTable, element);\n",
              "        const docLink = document.createElement('div');\n",
              "        docLink.innerHTML = docLinkHtml;\n",
              "        element.appendChild(docLink);\n",
              "      }\n",
              "    </script>\n",
              "  </div>\n",
              "\n",
              "\n",
              "    <div id=\"df-67c4c8e9-56f4-4d3a-a75c-6cefd8f587f9\">\n",
              "      <button class=\"colab-df-quickchart\" onclick=\"quickchart('df-67c4c8e9-56f4-4d3a-a75c-6cefd8f587f9')\"\n",
              "                title=\"Suggest charts\"\n",
              "                style=\"display:none;\">\n",
              "\n",
              "<svg xmlns=\"http://www.w3.org/2000/svg\" height=\"24px\"viewBox=\"0 0 24 24\"\n",
              "     width=\"24px\">\n",
              "    <g>\n",
              "        <path d=\"M19 3H5c-1.1 0-2 .9-2 2v14c0 1.1.9 2 2 2h14c1.1 0 2-.9 2-2V5c0-1.1-.9-2-2-2zM9 17H7v-7h2v7zm4 0h-2V7h2v10zm4 0h-2v-4h2v4z\"/>\n",
              "    </g>\n",
              "</svg>\n",
              "      </button>\n",
              "\n",
              "<style>\n",
              "  .colab-df-quickchart {\n",
              "      --bg-color: #E8F0FE;\n",
              "      --fill-color: #1967D2;\n",
              "      --hover-bg-color: #E2EBFA;\n",
              "      --hover-fill-color: #174EA6;\n",
              "      --disabled-fill-color: #AAA;\n",
              "      --disabled-bg-color: #DDD;\n",
              "  }\n",
              "\n",
              "  [theme=dark] .colab-df-quickchart {\n",
              "      --bg-color: #3B4455;\n",
              "      --fill-color: #D2E3FC;\n",
              "      --hover-bg-color: #434B5C;\n",
              "      --hover-fill-color: #FFFFFF;\n",
              "      --disabled-bg-color: #3B4455;\n",
              "      --disabled-fill-color: #666;\n",
              "  }\n",
              "\n",
              "  .colab-df-quickchart {\n",
              "    background-color: var(--bg-color);\n",
              "    border: none;\n",
              "    border-radius: 50%;\n",
              "    cursor: pointer;\n",
              "    display: none;\n",
              "    fill: var(--fill-color);\n",
              "    height: 32px;\n",
              "    padding: 0;\n",
              "    width: 32px;\n",
              "  }\n",
              "\n",
              "  .colab-df-quickchart:hover {\n",
              "    background-color: var(--hover-bg-color);\n",
              "    box-shadow: 0 1px 2px rgba(60, 64, 67, 0.3), 0 1px 3px 1px rgba(60, 64, 67, 0.15);\n",
              "    fill: var(--button-hover-fill-color);\n",
              "  }\n",
              "\n",
              "  .colab-df-quickchart-complete:disabled,\n",
              "  .colab-df-quickchart-complete:disabled:hover {\n",
              "    background-color: var(--disabled-bg-color);\n",
              "    fill: var(--disabled-fill-color);\n",
              "    box-shadow: none;\n",
              "  }\n",
              "\n",
              "  .colab-df-spinner {\n",
              "    border: 2px solid var(--fill-color);\n",
              "    border-color: transparent;\n",
              "    border-bottom-color: var(--fill-color);\n",
              "    animation:\n",
              "      spin 1s steps(1) infinite;\n",
              "  }\n",
              "\n",
              "  @keyframes spin {\n",
              "    0% {\n",
              "      border-color: transparent;\n",
              "      border-bottom-color: var(--fill-color);\n",
              "      border-left-color: var(--fill-color);\n",
              "    }\n",
              "    20% {\n",
              "      border-color: transparent;\n",
              "      border-left-color: var(--fill-color);\n",
              "      border-top-color: var(--fill-color);\n",
              "    }\n",
              "    30% {\n",
              "      border-color: transparent;\n",
              "      border-left-color: var(--fill-color);\n",
              "      border-top-color: var(--fill-color);\n",
              "      border-right-color: var(--fill-color);\n",
              "    }\n",
              "    40% {\n",
              "      border-color: transparent;\n",
              "      border-right-color: var(--fill-color);\n",
              "      border-top-color: var(--fill-color);\n",
              "    }\n",
              "    60% {\n",
              "      border-color: transparent;\n",
              "      border-right-color: var(--fill-color);\n",
              "    }\n",
              "    80% {\n",
              "      border-color: transparent;\n",
              "      border-right-color: var(--fill-color);\n",
              "      border-bottom-color: var(--fill-color);\n",
              "    }\n",
              "    90% {\n",
              "      border-color: transparent;\n",
              "      border-bottom-color: var(--fill-color);\n",
              "    }\n",
              "  }\n",
              "</style>\n",
              "\n",
              "      <script>\n",
              "        async function quickchart(key) {\n",
              "          const quickchartButtonEl =\n",
              "            document.querySelector('#' + key + ' button');\n",
              "          quickchartButtonEl.disabled = true;  // To prevent multiple clicks.\n",
              "          quickchartButtonEl.classList.add('colab-df-spinner');\n",
              "          try {\n",
              "            const charts = await google.colab.kernel.invokeFunction(\n",
              "                'suggestCharts', [key], {});\n",
              "          } catch (error) {\n",
              "            console.error('Error during call to suggestCharts:', error);\n",
              "          }\n",
              "          quickchartButtonEl.classList.remove('colab-df-spinner');\n",
              "          quickchartButtonEl.classList.add('colab-df-quickchart-complete');\n",
              "        }\n",
              "        (() => {\n",
              "          let quickchartButtonEl =\n",
              "            document.querySelector('#df-67c4c8e9-56f4-4d3a-a75c-6cefd8f587f9 button');\n",
              "          quickchartButtonEl.style.display =\n",
              "            google.colab.kernel.accessAllowed ? 'block' : 'none';\n",
              "        })();\n",
              "      </script>\n",
              "    </div>\n",
              "\n",
              "    </div>\n",
              "  </div>\n"
            ],
            "application/vnd.google.colaboratory.intrinsic+json": {
              "type": "dataframe",
              "variable_name": "df"
            }
          },
          "metadata": {},
          "execution_count": 92
        }
      ],
      "source": [
        "df.head().T"
      ]
    },
    {
      "cell_type": "code",
      "execution_count": 93,
      "metadata": {
        "colab": {
          "base_uri": "https://localhost:8080/"
        },
        "id": "1wwh4eJBE3By",
        "outputId": "53d664b7-54eb-43b9-bf02-0503d0e37db8"
      },
      "outputs": [
        {
          "output_type": "stream",
          "name": "stdout",
          "text": [
            "<class 'pandas.core.frame.DataFrame'>\n",
            "RangeIndex: 12335 entries, 0 to 12334\n",
            "Data columns (total 21 columns):\n",
            " #   Column                   Non-Null Count  Dtype  \n",
            "---  ------                   --------------  -----  \n",
            " 0   customerID               12335 non-null  object \n",
            " 1   gender                   12335 non-null  object \n",
            " 2   SeniorCitizen            12335 non-null  int64  \n",
            " 3   Partner                  12335 non-null  object \n",
            " 4   Dependents               12335 non-null  object \n",
            " 5   tenure                   12335 non-null  float64\n",
            " 6   CallService              12335 non-null  object \n",
            " 7   MultipleConnections      12335 non-null  object \n",
            " 8   InternetConnection       12335 non-null  object \n",
            " 9   OnlineSecurity           12335 non-null  object \n",
            " 10  OnlineBackup             12335 non-null  object \n",
            " 11  DeviceProtectionService  12335 non-null  object \n",
            " 12  TechnicalHelp            12335 non-null  object \n",
            " 13  OnlineTV                 12335 non-null  object \n",
            " 14  OnlineMovies             12335 non-null  object \n",
            " 15  Agreement                12335 non-null  object \n",
            " 16  BillingMethod            12335 non-null  object \n",
            " 17  PaymentMethod            12335 non-null  object \n",
            " 18  MonthlyServiceCharges    12335 non-null  float64\n",
            " 19  TotalAmount              12335 non-null  float64\n",
            " 20  Churn                    12335 non-null  object \n",
            "dtypes: float64(3), int64(1), object(17)\n",
            "memory usage: 2.0+ MB\n"
          ]
        }
      ],
      "source": [
        "df.info()"
      ]
    },
    {
      "cell_type": "code",
      "execution_count": 94,
      "metadata": {
        "colab": {
          "base_uri": "https://localhost:8080/",
          "height": 743
        },
        "id": "41BzjdGtE3Bz",
        "outputId": "dbe57699-4bf3-40a1-cbd5-fc469424c543"
      },
      "outputs": [
        {
          "output_type": "execute_result",
          "data": {
            "text/plain": [
              "customerID                 5590\n",
              "gender                        2\n",
              "SeniorCitizen                 2\n",
              "Partner                       2\n",
              "Dependents                    2\n",
              "tenure                     3569\n",
              "CallService                   2\n",
              "MultipleConnections           3\n",
              "InternetConnection            3\n",
              "OnlineSecurity                3\n",
              "OnlineBackup                  3\n",
              "DeviceProtectionService       3\n",
              "TechnicalHelp                 3\n",
              "OnlineTV                      3\n",
              "OnlineMovies                  3\n",
              "Agreement                     3\n",
              "BillingMethod                 2\n",
              "PaymentMethod                 4\n",
              "MonthlyServiceCharges      5231\n",
              "TotalAmount                8951\n",
              "Churn                         2\n",
              "dtype: int64"
            ],
            "text/html": [
              "<div>\n",
              "<style scoped>\n",
              "    .dataframe tbody tr th:only-of-type {\n",
              "        vertical-align: middle;\n",
              "    }\n",
              "\n",
              "    .dataframe tbody tr th {\n",
              "        vertical-align: top;\n",
              "    }\n",
              "\n",
              "    .dataframe thead th {\n",
              "        text-align: right;\n",
              "    }\n",
              "</style>\n",
              "<table border=\"1\" class=\"dataframe\">\n",
              "  <thead>\n",
              "    <tr style=\"text-align: right;\">\n",
              "      <th></th>\n",
              "      <th>0</th>\n",
              "    </tr>\n",
              "  </thead>\n",
              "  <tbody>\n",
              "    <tr>\n",
              "      <th>customerID</th>\n",
              "      <td>5590</td>\n",
              "    </tr>\n",
              "    <tr>\n",
              "      <th>gender</th>\n",
              "      <td>2</td>\n",
              "    </tr>\n",
              "    <tr>\n",
              "      <th>SeniorCitizen</th>\n",
              "      <td>2</td>\n",
              "    </tr>\n",
              "    <tr>\n",
              "      <th>Partner</th>\n",
              "      <td>2</td>\n",
              "    </tr>\n",
              "    <tr>\n",
              "      <th>Dependents</th>\n",
              "      <td>2</td>\n",
              "    </tr>\n",
              "    <tr>\n",
              "      <th>tenure</th>\n",
              "      <td>3569</td>\n",
              "    </tr>\n",
              "    <tr>\n",
              "      <th>CallService</th>\n",
              "      <td>2</td>\n",
              "    </tr>\n",
              "    <tr>\n",
              "      <th>MultipleConnections</th>\n",
              "      <td>3</td>\n",
              "    </tr>\n",
              "    <tr>\n",
              "      <th>InternetConnection</th>\n",
              "      <td>3</td>\n",
              "    </tr>\n",
              "    <tr>\n",
              "      <th>OnlineSecurity</th>\n",
              "      <td>3</td>\n",
              "    </tr>\n",
              "    <tr>\n",
              "      <th>OnlineBackup</th>\n",
              "      <td>3</td>\n",
              "    </tr>\n",
              "    <tr>\n",
              "      <th>DeviceProtectionService</th>\n",
              "      <td>3</td>\n",
              "    </tr>\n",
              "    <tr>\n",
              "      <th>TechnicalHelp</th>\n",
              "      <td>3</td>\n",
              "    </tr>\n",
              "    <tr>\n",
              "      <th>OnlineTV</th>\n",
              "      <td>3</td>\n",
              "    </tr>\n",
              "    <tr>\n",
              "      <th>OnlineMovies</th>\n",
              "      <td>3</td>\n",
              "    </tr>\n",
              "    <tr>\n",
              "      <th>Agreement</th>\n",
              "      <td>3</td>\n",
              "    </tr>\n",
              "    <tr>\n",
              "      <th>BillingMethod</th>\n",
              "      <td>2</td>\n",
              "    </tr>\n",
              "    <tr>\n",
              "      <th>PaymentMethod</th>\n",
              "      <td>4</td>\n",
              "    </tr>\n",
              "    <tr>\n",
              "      <th>MonthlyServiceCharges</th>\n",
              "      <td>5231</td>\n",
              "    </tr>\n",
              "    <tr>\n",
              "      <th>TotalAmount</th>\n",
              "      <td>8951</td>\n",
              "    </tr>\n",
              "    <tr>\n",
              "      <th>Churn</th>\n",
              "      <td>2</td>\n",
              "    </tr>\n",
              "  </tbody>\n",
              "</table>\n",
              "</div><br><label><b>dtype:</b> int64</label>"
            ]
          },
          "metadata": {},
          "execution_count": 94
        }
      ],
      "source": [
        "df.nunique()"
      ]
    },
    {
      "cell_type": "code",
      "execution_count": 95,
      "metadata": {
        "colab": {
          "base_uri": "https://localhost:8080/",
          "height": 743
        },
        "id": "bqYrbFudE3By",
        "outputId": "3da311e1-f32d-46f7-dc24-3dcd9148fea6"
      },
      "outputs": [
        {
          "output_type": "execute_result",
          "data": {
            "text/plain": [
              "customerID                 0\n",
              "gender                     0\n",
              "SeniorCitizen              0\n",
              "Partner                    0\n",
              "Dependents                 0\n",
              "tenure                     0\n",
              "CallService                0\n",
              "MultipleConnections        0\n",
              "InternetConnection         0\n",
              "OnlineSecurity             0\n",
              "OnlineBackup               0\n",
              "DeviceProtectionService    0\n",
              "TechnicalHelp              0\n",
              "OnlineTV                   0\n",
              "OnlineMovies               0\n",
              "Agreement                  0\n",
              "BillingMethod              0\n",
              "PaymentMethod              0\n",
              "MonthlyServiceCharges      0\n",
              "TotalAmount                0\n",
              "Churn                      0\n",
              "dtype: int64"
            ],
            "text/html": [
              "<div>\n",
              "<style scoped>\n",
              "    .dataframe tbody tr th:only-of-type {\n",
              "        vertical-align: middle;\n",
              "    }\n",
              "\n",
              "    .dataframe tbody tr th {\n",
              "        vertical-align: top;\n",
              "    }\n",
              "\n",
              "    .dataframe thead th {\n",
              "        text-align: right;\n",
              "    }\n",
              "</style>\n",
              "<table border=\"1\" class=\"dataframe\">\n",
              "  <thead>\n",
              "    <tr style=\"text-align: right;\">\n",
              "      <th></th>\n",
              "      <th>0</th>\n",
              "    </tr>\n",
              "  </thead>\n",
              "  <tbody>\n",
              "    <tr>\n",
              "      <th>customerID</th>\n",
              "      <td>0</td>\n",
              "    </tr>\n",
              "    <tr>\n",
              "      <th>gender</th>\n",
              "      <td>0</td>\n",
              "    </tr>\n",
              "    <tr>\n",
              "      <th>SeniorCitizen</th>\n",
              "      <td>0</td>\n",
              "    </tr>\n",
              "    <tr>\n",
              "      <th>Partner</th>\n",
              "      <td>0</td>\n",
              "    </tr>\n",
              "    <tr>\n",
              "      <th>Dependents</th>\n",
              "      <td>0</td>\n",
              "    </tr>\n",
              "    <tr>\n",
              "      <th>tenure</th>\n",
              "      <td>0</td>\n",
              "    </tr>\n",
              "    <tr>\n",
              "      <th>CallService</th>\n",
              "      <td>0</td>\n",
              "    </tr>\n",
              "    <tr>\n",
              "      <th>MultipleConnections</th>\n",
              "      <td>0</td>\n",
              "    </tr>\n",
              "    <tr>\n",
              "      <th>InternetConnection</th>\n",
              "      <td>0</td>\n",
              "    </tr>\n",
              "    <tr>\n",
              "      <th>OnlineSecurity</th>\n",
              "      <td>0</td>\n",
              "    </tr>\n",
              "    <tr>\n",
              "      <th>OnlineBackup</th>\n",
              "      <td>0</td>\n",
              "    </tr>\n",
              "    <tr>\n",
              "      <th>DeviceProtectionService</th>\n",
              "      <td>0</td>\n",
              "    </tr>\n",
              "    <tr>\n",
              "      <th>TechnicalHelp</th>\n",
              "      <td>0</td>\n",
              "    </tr>\n",
              "    <tr>\n",
              "      <th>OnlineTV</th>\n",
              "      <td>0</td>\n",
              "    </tr>\n",
              "    <tr>\n",
              "      <th>OnlineMovies</th>\n",
              "      <td>0</td>\n",
              "    </tr>\n",
              "    <tr>\n",
              "      <th>Agreement</th>\n",
              "      <td>0</td>\n",
              "    </tr>\n",
              "    <tr>\n",
              "      <th>BillingMethod</th>\n",
              "      <td>0</td>\n",
              "    </tr>\n",
              "    <tr>\n",
              "      <th>PaymentMethod</th>\n",
              "      <td>0</td>\n",
              "    </tr>\n",
              "    <tr>\n",
              "      <th>MonthlyServiceCharges</th>\n",
              "      <td>0</td>\n",
              "    </tr>\n",
              "    <tr>\n",
              "      <th>TotalAmount</th>\n",
              "      <td>0</td>\n",
              "    </tr>\n",
              "    <tr>\n",
              "      <th>Churn</th>\n",
              "      <td>0</td>\n",
              "    </tr>\n",
              "  </tbody>\n",
              "</table>\n",
              "</div><br><label><b>dtype:</b> int64</label>"
            ]
          },
          "metadata": {},
          "execution_count": 95
        }
      ],
      "source": [
        "df.isnull().sum()"
      ]
    },
    {
      "cell_type": "markdown",
      "source": [
        "# Data Preprocesing"
      ],
      "metadata": {
        "id": "SIULlpC-dyAv"
      }
    },
    {
      "cell_type": "markdown",
      "source": [
        "Handling Missing Values"
      ],
      "metadata": {
        "id": "JWbr6wWdeFWb"
      }
    },
    {
      "cell_type": "code",
      "source": [
        "df.isnull().sum()"
      ],
      "metadata": {
        "colab": {
          "base_uri": "https://localhost:8080/",
          "height": 743
        },
        "id": "levrA9s-eJbv",
        "outputId": "8c636055-934b-4ff9-9db6-904634096ccf"
      },
      "execution_count": 96,
      "outputs": [
        {
          "output_type": "execute_result",
          "data": {
            "text/plain": [
              "customerID                 0\n",
              "gender                     0\n",
              "SeniorCitizen              0\n",
              "Partner                    0\n",
              "Dependents                 0\n",
              "tenure                     0\n",
              "CallService                0\n",
              "MultipleConnections        0\n",
              "InternetConnection         0\n",
              "OnlineSecurity             0\n",
              "OnlineBackup               0\n",
              "DeviceProtectionService    0\n",
              "TechnicalHelp              0\n",
              "OnlineTV                   0\n",
              "OnlineMovies               0\n",
              "Agreement                  0\n",
              "BillingMethod              0\n",
              "PaymentMethod              0\n",
              "MonthlyServiceCharges      0\n",
              "TotalAmount                0\n",
              "Churn                      0\n",
              "dtype: int64"
            ],
            "text/html": [
              "<div>\n",
              "<style scoped>\n",
              "    .dataframe tbody tr th:only-of-type {\n",
              "        vertical-align: middle;\n",
              "    }\n",
              "\n",
              "    .dataframe tbody tr th {\n",
              "        vertical-align: top;\n",
              "    }\n",
              "\n",
              "    .dataframe thead th {\n",
              "        text-align: right;\n",
              "    }\n",
              "</style>\n",
              "<table border=\"1\" class=\"dataframe\">\n",
              "  <thead>\n",
              "    <tr style=\"text-align: right;\">\n",
              "      <th></th>\n",
              "      <th>0</th>\n",
              "    </tr>\n",
              "  </thead>\n",
              "  <tbody>\n",
              "    <tr>\n",
              "      <th>customerID</th>\n",
              "      <td>0</td>\n",
              "    </tr>\n",
              "    <tr>\n",
              "      <th>gender</th>\n",
              "      <td>0</td>\n",
              "    </tr>\n",
              "    <tr>\n",
              "      <th>SeniorCitizen</th>\n",
              "      <td>0</td>\n",
              "    </tr>\n",
              "    <tr>\n",
              "      <th>Partner</th>\n",
              "      <td>0</td>\n",
              "    </tr>\n",
              "    <tr>\n",
              "      <th>Dependents</th>\n",
              "      <td>0</td>\n",
              "    </tr>\n",
              "    <tr>\n",
              "      <th>tenure</th>\n",
              "      <td>0</td>\n",
              "    </tr>\n",
              "    <tr>\n",
              "      <th>CallService</th>\n",
              "      <td>0</td>\n",
              "    </tr>\n",
              "    <tr>\n",
              "      <th>MultipleConnections</th>\n",
              "      <td>0</td>\n",
              "    </tr>\n",
              "    <tr>\n",
              "      <th>InternetConnection</th>\n",
              "      <td>0</td>\n",
              "    </tr>\n",
              "    <tr>\n",
              "      <th>OnlineSecurity</th>\n",
              "      <td>0</td>\n",
              "    </tr>\n",
              "    <tr>\n",
              "      <th>OnlineBackup</th>\n",
              "      <td>0</td>\n",
              "    </tr>\n",
              "    <tr>\n",
              "      <th>DeviceProtectionService</th>\n",
              "      <td>0</td>\n",
              "    </tr>\n",
              "    <tr>\n",
              "      <th>TechnicalHelp</th>\n",
              "      <td>0</td>\n",
              "    </tr>\n",
              "    <tr>\n",
              "      <th>OnlineTV</th>\n",
              "      <td>0</td>\n",
              "    </tr>\n",
              "    <tr>\n",
              "      <th>OnlineMovies</th>\n",
              "      <td>0</td>\n",
              "    </tr>\n",
              "    <tr>\n",
              "      <th>Agreement</th>\n",
              "      <td>0</td>\n",
              "    </tr>\n",
              "    <tr>\n",
              "      <th>BillingMethod</th>\n",
              "      <td>0</td>\n",
              "    </tr>\n",
              "    <tr>\n",
              "      <th>PaymentMethod</th>\n",
              "      <td>0</td>\n",
              "    </tr>\n",
              "    <tr>\n",
              "      <th>MonthlyServiceCharges</th>\n",
              "      <td>0</td>\n",
              "    </tr>\n",
              "    <tr>\n",
              "      <th>TotalAmount</th>\n",
              "      <td>0</td>\n",
              "    </tr>\n",
              "    <tr>\n",
              "      <th>Churn</th>\n",
              "      <td>0</td>\n",
              "    </tr>\n",
              "  </tbody>\n",
              "</table>\n",
              "</div><br><label><b>dtype:</b> int64</label>"
            ]
          },
          "metadata": {},
          "execution_count": 96
        }
      ]
    },
    {
      "cell_type": "markdown",
      "source": [
        "Handling Duplicated Rows"
      ],
      "metadata": {
        "id": "EcfT_coneX9-"
      }
    },
    {
      "cell_type": "code",
      "source": [
        "print(\"Number of duplicated rows: \", df.duplicated().sum())"
      ],
      "metadata": {
        "colab": {
          "base_uri": "https://localhost:8080/"
        },
        "id": "7Gxva_JvdAfD",
        "outputId": "aebb0f3c-e08a-4831-9c74-c4cc780aaff3"
      },
      "execution_count": 97,
      "outputs": [
        {
          "output_type": "stream",
          "name": "stdout",
          "text": [
            "Number of duplicated rows:  3007\n"
          ]
        }
      ]
    },
    {
      "cell_type": "code",
      "execution_count": 98,
      "metadata": {
        "colab": {
          "base_uri": "https://localhost:8080/"
        },
        "id": "FvHHFqgkE3B0",
        "outputId": "385aa510-5b69-4f23-acaf-d8f2d8ad22e3"
      },
      "outputs": [
        {
          "output_type": "execute_result",
          "data": {
            "text/plain": [
              "(9328, 21)"
            ]
          },
          "metadata": {},
          "execution_count": 98
        }
      ],
      "source": [
        "df = df.drop_duplicates()\n",
        "df.shape"
      ]
    },
    {
      "cell_type": "code",
      "execution_count": 99,
      "metadata": {
        "id": "kF0QTQ-AE3B1"
      },
      "outputs": [],
      "source": [
        "#Dropping unnecessary columns\n",
        "df = df.drop(\"customerID\", axis = 1)"
      ]
    },
    {
      "cell_type": "code",
      "execution_count": 100,
      "metadata": {
        "id": "QRwGf4ruE3B2"
      },
      "outputs": [],
      "source": [
        "#Coverting data types of columns\n",
        "df.SeniorCitizen = df.SeniorCitizen.astype(str)"
      ]
    },
    {
      "cell_type": "code",
      "source": [
        "#Replacing values in the dataset\n",
        "df['SeniorCitizen'] = df['SeniorCitizen'].replace({\"0\": 'No', \"1\": 'Yes'})"
      ],
      "metadata": {
        "id": "iFxY00y_h_Gh"
      },
      "execution_count": 101,
      "outputs": []
    },
    {
      "cell_type": "code",
      "source": [
        "df['SeniorCitizen'].unique()"
      ],
      "metadata": {
        "colab": {
          "base_uri": "https://localhost:8080/"
        },
        "id": "NWhPh_IqiXg1",
        "outputId": "9ed77c91-fcd6-42ab-d44f-7edf83afd303"
      },
      "execution_count": 102,
      "outputs": [
        {
          "output_type": "execute_result",
          "data": {
            "text/plain": [
              "array(['No', 'Yes'], dtype=object)"
            ]
          },
          "metadata": {},
          "execution_count": 102
        }
      ]
    },
    {
      "cell_type": "code",
      "source": [
        "df.info()"
      ],
      "metadata": {
        "colab": {
          "base_uri": "https://localhost:8080/"
        },
        "id": "Go-qEPOgdXVF",
        "outputId": "9d171927-d89b-469b-9a52-6ccb7bd597b0"
      },
      "execution_count": 103,
      "outputs": [
        {
          "output_type": "stream",
          "name": "stdout",
          "text": [
            "<class 'pandas.core.frame.DataFrame'>\n",
            "Index: 9328 entries, 0 to 12334\n",
            "Data columns (total 20 columns):\n",
            " #   Column                   Non-Null Count  Dtype  \n",
            "---  ------                   --------------  -----  \n",
            " 0   gender                   9328 non-null   object \n",
            " 1   SeniorCitizen            9328 non-null   object \n",
            " 2   Partner                  9328 non-null   object \n",
            " 3   Dependents               9328 non-null   object \n",
            " 4   tenure                   9328 non-null   float64\n",
            " 5   CallService              9328 non-null   object \n",
            " 6   MultipleConnections      9328 non-null   object \n",
            " 7   InternetConnection       9328 non-null   object \n",
            " 8   OnlineSecurity           9328 non-null   object \n",
            " 9   OnlineBackup             9328 non-null   object \n",
            " 10  DeviceProtectionService  9328 non-null   object \n",
            " 11  TechnicalHelp            9328 non-null   object \n",
            " 12  OnlineTV                 9328 non-null   object \n",
            " 13  OnlineMovies             9328 non-null   object \n",
            " 14  Agreement                9328 non-null   object \n",
            " 15  BillingMethod            9328 non-null   object \n",
            " 16  PaymentMethod            9328 non-null   object \n",
            " 17  MonthlyServiceCharges    9328 non-null   float64\n",
            " 18  TotalAmount              9328 non-null   float64\n",
            " 19  Churn                    9328 non-null   object \n",
            "dtypes: float64(3), object(17)\n",
            "memory usage: 1.5+ MB\n"
          ]
        }
      ]
    },
    {
      "cell_type": "markdown",
      "metadata": {
        "id": "HGxSSrilE3B2"
      },
      "source": [
        "# Exploratory Data Analysis"
      ]
    },
    {
      "cell_type": "code",
      "source": [
        "# Displaying the distribution of customer churn\n",
        "plt.figure(figsize=(6, 5))\n",
        "ax = sns.countplot(x='Churn', data=df, palette='viridis', hue='Churn', legend=False) # 'hue' added to resolve warning\n",
        "\n",
        "for p in ax.patches:\n",
        "    height = p.get_height()\n",
        "    ax.text(p.get_x() + p.get_width() / 2.,\n",
        "            height + 40,\n",
        "            '{:1.0f}'.format(height),\n",
        "            ha='center', va='bottom')\n",
        "\n",
        "plt.title('Distribution of Customer Churn')\n",
        "plt.xlabel('Churn Status')\n",
        "plt.ylabel('Number of Customers')\n",
        "plt.grid(axis='y', linestyle='--', alpha=0.7)\n",
        "plt.show()"
      ],
      "metadata": {
        "colab": {
          "base_uri": "https://localhost:8080/",
          "height": 487
        },
        "id": "VfGK7gpzbSsw",
        "outputId": "d8bc48d4-5749-469a-8360-32463678807e"
      },
      "execution_count": 104,
      "outputs": [
        {
          "output_type": "display_data",
          "data": {
            "text/plain": [
              "<Figure size 600x500 with 1 Axes>"
            ],
            "image/png": "[encoded data removed]"
          },
          "metadata": {}
        }
      ]
    },
    {
      "cell_type": "code",
      "execution_count": 105,
      "metadata": {
        "colab": {
          "base_uri": "https://localhost:8080/",
          "height": 607
        },
        "id": "GOZWRwPBE3B3",
        "outputId": "0c18b062-67a5-4695-f2ba-0e47bdc2d580"
      },
      "outputs": [
        {
          "output_type": "display_data",
          "data": {
            "text/plain": [
              "<Figure size 900x600 with 1 Axes>"
            ],
            "image/png": "[encoded data removed]"
          },
          "metadata": {}
        }
      ],
      "source": [
        "# Displaying the churn rate within each agreement type\n",
        "plt.figure(figsize=(9, 6))\n",
        "churn_by_agreement = df.groupby('Agreement')['Churn'].value_counts(normalize=True).unstack()\n",
        "churn_by_agreement.plot(kind='bar', stacked=True, figsize=(9, 6), cmap='cividis', ax=plt.gca())\n",
        "\n",
        "plt.title('Churn Rate Distribution by Agreement Type')\n",
        "plt.xlabel('Agreement Type')\n",
        "plt.ylabel('Proportion of Customers (Stacked)')\n",
        "plt.xticks(rotation=60, ha='right')\n",
        "plt.legend(title='Churn Status')\n",
        "plt.grid(axis='y', linestyle='--', alpha=0.7)\n",
        "plt.tight_layout()\n",
        "plt.show()"
      ]
    },
    {
      "cell_type": "code",
      "execution_count": 106,
      "metadata": {
        "colab": {
          "base_uri": "https://localhost:8080/",
          "height": 564
        },
        "id": "AXe6sIiNE3B3",
        "outputId": "aea3b03e-9642-4b1c-fadc-d499306cd235"
      },
      "outputs": [
        {
          "output_type": "display_data",
          "data": {
            "text/plain": [
              "<Figure size 700x600 with 1 Axes>"
            ],
            "image/png": "[encoded data removed]"
          },
          "metadata": {}
        }
      ],
      "source": [
        "# Displaying the churn rate based on Senior Citizen status\n",
        "\n",
        "plt.figure(figsize=(7, 6))\n",
        "senior_churn_rate_df = df.groupby('SeniorCitizen')['Churn'].value_counts(normalize=True).unstack()\n",
        "ax = senior_churn_rate_df['Yes'].plot(kind='bar', color=sns.color_palette('deep')[3])\n",
        "\n",
        "plt.title('Churn Rate by Senior Citizen Status')\n",
        "plt.xlabel('Senior Citizen')\n",
        "plt.ylabel('Churn Rate')\n",
        "plt.xticks(rotation=0)\n",
        "\n",
        "plt.grid(axis='y', linestyle='--', alpha=0.7)\n",
        "plt.show()"
      ]
    },
    {
      "cell_type": "code",
      "execution_count": 107,
      "metadata": {
        "colab": {
          "base_uri": "https://localhost:8080/",
          "height": 699
        },
        "id": "ScB58C5vE3CC",
        "outputId": "b1661496-ba01-4253-e517-2649e33a37da"
      },
      "outputs": [
        {
          "output_type": "display_data",
          "data": {
            "text/plain": [
              "<Figure size 1000x800 with 2 Axes>"
            ],
            "image/png": "[encoded data removed]"
          },
          "metadata": {}
        }
      ],
      "source": [
        "# Displaying the correlation matrix of numeric features\n",
        "numeric_df = df.select_dtypes(include=['float64', 'int64'])\n",
        "\n",
        "plt.figure(figsize=(10, 8))\n",
        "sns.heatmap(numeric_df.corr(), annot=True, cmap='coolwarm', fmt=\".2f\", linewidths=.5)\n",
        "plt.title('Correlation Matrix of Numeric Features')\n",
        "plt.show()"
      ]
    },
    {
      "cell_type": "code",
      "source": [
        "import math # Import math for ceil function\n",
        "# Displaying how various services impact churn, arranged in rows with 3 graphs each\n",
        "# List of service-related columns to analyze\n",
        "service_columns = [\n",
        "    'CallService', 'MultipleConnections', 'InternetConnection',\n",
        "    'OnlineSecurity', 'OnlineBackup', 'DeviceProtectionService',\n",
        "    'TechnicalHelp', 'OnlineTV', 'OnlineMovies'\n",
        "]\n",
        "\n",
        "n_cols = 3\n",
        "n_rows = math.ceil(len(service_columns) / n_cols)\n",
        "fig, axes = plt.subplots(n_rows, n_cols, figsize=(n_cols * 5, n_rows * 4), layout='tight')\n",
        "axes = axes.flatten()\n",
        "\n",
        "for i, col_name in enumerate(service_columns):\n",
        "    ax = axes[i]\n",
        "    sns.countplot(x=col_name, hue='Churn', data=df, palette='viridis', ax=ax)\n",
        "    ax.set_title(f'{col_name} vs. Churn')\n",
        "    ax.set_xlabel(col_name)\n",
        "    ax.set_ylabel('Number of Customers')\n",
        "    ax.legend(title='Churn')\n",
        "\n",
        "plt.suptitle('Churn Distribution Across Various Services', y=1.02, fontsize=16) # Overall title\n",
        "plt.show()"
      ],
      "metadata": {
        "colab": {
          "base_uri": "https://localhost:8080/",
          "height": 855
        },
        "id": "vDHq3BA-fLiQ",
        "outputId": "19787e86-138c-49c0-cd8f-f66818f4dfd5"
      },
      "execution_count": 108,
      "outputs": [
        {
          "output_type": "display_data",
          "data": {
            "text/plain": [
              "<Figure size 1500x1200 with 9 Axes>"
            ],
            "image/png": "[encoded data removed]"
          },
          "metadata": {}
        }
      ]
    },
    {
      "cell_type": "markdown",
      "source": [
        "According to Churn Distribution for various services these are the following insights:-\n",
        "\n",
        "* **CallService:** While fundamental, not having CallService is a very strong churn indicator, with almost all non-subscribers churning.\n",
        "* **MultipleConnections:** Customers with multiple connections show a slightly lower churn propensity compared to single-connection users, suggesting increased stickiness.\n",
        "* **InternetConnection:** **Fiber optic internet is the most significant churn driver**, with a substantially higher proportion of churned customers compared to DSL or no internet service.\n",
        "* **OnlineSecurity:** Subscribing to OnlineSecurity acts as a strong churn mitigator; customers with this service are notably less likely to churn.\n",
        "* **OnlineBackup:** Similar to OnlineSecurity, having OnlineBackup significantly reduces the likelihood of a customer churning.\n",
        "* **DeviceProtectionService:** Customers with Device Protection Service show lower churn rates, indicating this service also contributes to customer retention.\n",
        "* **TechnicalHelp:** Access to Technical Help appears to be a crucial churn mitigator; customers utilizing this service churn significantly less.\n",
        "* **OnlineTV:** While beneficial, OnlineTV has a moderate impact on reducing churn compared to security or tech support services.\n",
        "* **OnlineMovies:** Similar to OnlineTV, subscribing to Online Movies shows a moderate but positive effect on customer retention."
      ],
      "metadata": {
        "id": "-64TaW5_g5k0"
      }
    },
    {
      "cell_type": "markdown",
      "metadata": {
        "id": "XqHYgs3HE3CF"
      },
      "source": [
        "# Model Training and Evaluation"
      ]
    },
    {
      "cell_type": "code",
      "source": [
        "X = df.drop(\"Churn\", axis=1)\n",
        "y = df.Churn"
      ],
      "metadata": {
        "id": "E4SLiWZzjMNU"
      },
      "execution_count": 109,
      "outputs": []
    },
    {
      "cell_type": "code",
      "source": [
        "tts = train_test_split\n",
        "X_train, X_test, y_train, y_test = tts(X,y)"
      ],
      "metadata": {
        "id": "sie4Q23TjOfv"
      },
      "execution_count": 110,
      "outputs": []
    },
    {
      "cell_type": "code",
      "source": [
        "print(X_train.shape, X_test.shape, y_train.shape, y_test.shape)"
      ],
      "metadata": {
        "colab": {
          "base_uri": "https://localhost:8080/"
        },
        "id": "mo6_tIOBjh1q",
        "outputId": "2a4a65cc-ed94-4b9e-e3be-028cddfdf33c"
      },
      "execution_count": 111,
      "outputs": [
        {
          "output_type": "stream",
          "name": "stdout",
          "text": [
            "(6996, 19) (2332, 19) (6996,) (2332,)\n"
          ]
        }
      ]
    },
    {
      "cell_type": "code",
      "source": [
        "sc = StandardScaler()"
      ],
      "metadata": {
        "id": "DPShpsSOjnhH"
      },
      "execution_count": 112,
      "outputs": []
    },
    {
      "cell_type": "code",
      "source": [
        "floatlst = list(df.select_dtypes([\"float64\"]).columns)\n",
        "len(floatlst)"
      ],
      "metadata": {
        "colab": {
          "base_uri": "https://localhost:8080/"
        },
        "id": "OInk64DLj2Xg",
        "outputId": "072453a7-736e-4e19-8442-bdfea01a6f16"
      },
      "execution_count": 113,
      "outputs": [
        {
          "output_type": "execute_result",
          "data": {
            "text/plain": [
              "3"
            ]
          },
          "metadata": {},
          "execution_count": 113
        }
      ]
    },
    {
      "cell_type": "code",
      "source": [
        "X_train_std = sc.fit_transform(X_train[floatlst])\n",
        "X_test_std = sc.transform(X_test[floatlst])\n",
        "print(X_train_std.shape, X_test_std.shape)"
      ],
      "metadata": {
        "colab": {
          "base_uri": "https://localhost:8080/"
        },
        "id": "b7dU6muRjqur",
        "outputId": "d5ac9c7e-54c5-4d47-aabb-b3b8ff743d7d"
      },
      "execution_count": 114,
      "outputs": [
        {
          "output_type": "stream",
          "name": "stdout",
          "text": [
            "(6996, 3) (2332, 3)\n"
          ]
        }
      ]
    },
    {
      "cell_type": "code",
      "source": [
        "X_train_df = pd.DataFrame(X_train_std, columns = floatlst)\n",
        "X_test_df = pd.DataFrame(X_test_std, columns = floatlst)\n",
        "print(X_train_df.shape, X_test_df.shape, df.shape)"
      ],
      "metadata": {
        "colab": {
          "base_uri": "https://localhost:8080/"
        },
        "id": "X5u4mkQwj5An",
        "outputId": "f879de22-4476-4476-a870-2d3c490cfdb2"
      },
      "execution_count": 115,
      "outputs": [
        {
          "output_type": "stream",
          "name": "stdout",
          "text": [
            "(6996, 3) (2332, 3) (9328, 20)\n"
          ]
        }
      ]
    },
    {
      "cell_type": "code",
      "source": [
        "X_train_obj = X_train.drop(columns = floatlst)\n",
        "X_test_obj = X_test.drop(columns = floatlst)\n",
        "print(X_train_obj.shape, X_test_obj.shape)"
      ],
      "metadata": {
        "colab": {
          "base_uri": "https://localhost:8080/"
        },
        "id": "c4Vl-S23kHbW",
        "outputId": "ce6b8183-4c73-4cfb-b23f-8cd43a78690e"
      },
      "execution_count": 116,
      "outputs": [
        {
          "output_type": "stream",
          "name": "stdout",
          "text": [
            "(6996, 16) (2332, 16)\n"
          ]
        }
      ]
    },
    {
      "cell_type": "code",
      "source": [
        "X_train_dm = pd.get_dummies(X_train_obj, drop_first = True).reset_index()\n",
        "X_test_dm = pd.get_dummies(X_test_obj, drop_first = True).reset_index()\n",
        "print(X_train_dm.shape, X_test_dm.shape)"
      ],
      "metadata": {
        "colab": {
          "base_uri": "https://localhost:8080/"
        },
        "id": "HuV0ojgIkLSY",
        "outputId": "e018e0d7-a7e2-4ad9-ff02-7743903320a4"
      },
      "execution_count": 117,
      "outputs": [
        {
          "output_type": "stream",
          "name": "stdout",
          "text": [
            "(6996, 28) (2332, 28)\n"
          ]
        }
      ]
    },
    {
      "cell_type": "code",
      "source": [
        "X_train = pd.concat([X_train_dm, X_train_df], axis = 1)\n",
        "X_test = pd.concat([X_test_dm, X_test_df],axis = 1)\n",
        "print(X_train.shape, X_test.shape)"
      ],
      "metadata": {
        "colab": {
          "base_uri": "https://localhost:8080/"
        },
        "id": "j4xqDDe1kfiC",
        "outputId": "4d2339f7-9f1f-4db6-e1e9-649c0ebc4201"
      },
      "execution_count": 118,
      "outputs": [
        {
          "output_type": "stream",
          "name": "stdout",
          "text": [
            "(6996, 31) (2332, 31)\n"
          ]
        }
      ]
    },
    {
      "cell_type": "markdown",
      "source": [
        "### Logistic Regression"
      ],
      "metadata": {
        "id": "irwyUMeRmh5j"
      }
    },
    {
      "cell_type": "code",
      "source": [
        "log_model = LogisticRegression(max_iter = 5000)\n",
        "log_model.fit(X_train,y_train)\n",
        "log_preds = log_model.predict(X_test)"
      ],
      "metadata": {
        "id": "eX5TyPx-kknA"
      },
      "execution_count": 119,
      "outputs": []
    },
    {
      "cell_type": "code",
      "source": [
        "accuracy_score(log_preds, y_test)"
      ],
      "metadata": {
        "colab": {
          "base_uri": "https://localhost:8080/"
        },
        "id": "yKhQwXoMkw58",
        "outputId": "56063144-5d23-46e6-b8d9-629a8b730044"
      },
      "execution_count": 120,
      "outputs": [
        {
          "output_type": "execute_result",
          "data": {
            "text/plain": [
              "1.0"
            ]
          },
          "metadata": {},
          "execution_count": 120
        }
      ]
    },
    {
      "cell_type": "code",
      "source": [
        "print(classification_report(log_preds, y_test))"
      ],
      "metadata": {
        "colab": {
          "base_uri": "https://localhost:8080/"
        },
        "id": "yYNOoezrkmw2",
        "outputId": "1a09bef9-58f6-4591-d1ed-130b8de1c675"
      },
      "execution_count": 121,
      "outputs": [
        {
          "output_type": "stream",
          "name": "stdout",
          "text": [
            "              precision    recall  f1-score   support\n",
            "\n",
            "          No       1.00      1.00      1.00       924\n",
            "         Yes       1.00      1.00      1.00      1408\n",
            "\n",
            "    accuracy                           1.00      2332\n",
            "   macro avg       1.00      1.00      1.00      2332\n",
            "weighted avg       1.00      1.00      1.00      2332\n",
            "\n"
          ]
        }
      ]
    },
    {
      "cell_type": "markdown",
      "source": [
        "# Project Conclusion\n",
        "\n",
        "This project successfully developed a robust customer churn prediction system for a telecom company, leveraging detailed customer data to identify at-risk individuals. The developed model provides actionable insights, enabling the company to proactively target customers with tailored retention strategies, ultimately minimizing customer attrition and maximizing long-term revenue."
      ],
      "metadata": {
        "id": "DwVjPmz1nr08"
      }
    }
  ],
  "metadata": {
    "kernelspec": {
      "display_name": "Python 3",
      "language": "python",
      "name": "python3"
    },
    "language_info": {
      "codemirror_mode": {
        "name": "ipython",
        "version": 3
      },
      "file_extension": ".py",
      "mimetype": "text/x-python",
      "name": "python",
      "nbconvert_exporter": "python",
      "pygments_lexer": "ipython3",
      "version": "3.8.5"
    },
    "colab": {
      "provenance": []
    }
  },
  "nbformat": 4,
  "nbformat_minor": 0
}